{
  "nbformat": 4,
  "nbformat_minor": 0,
  "metadata": {
    "accelerator": "GPU",
    "colab": {
      "name": "scentic.ipynb",
      "provenance": [],
      "collapsed_sections": [],
      "authorship_tag": "ABX9TyMBlZvJ4rq1T2S8hxIueCOd",
      "include_colab_link": true
    },
    "kernelspec": {
      "display_name": "Python 3",
      "name": "python3"
    }
  },
  "cells": [
    {
      "cell_type": "markdown",
      "metadata": {
        "id": "view-in-github",
        "colab_type": "text"
      },
      "source": [
        "<a href=\"https://colab.research.google.com/github/L-ansari/DeepLearning/blob/master/scentic.ipynb\" target=\"_parent\"><img src=\"https://colab.research.google.com/assets/colab-badge.svg\" alt=\"Open In Colab\"/></a>"
      ]
    },
    {
      "cell_type": "code",
      "metadata": {
        "colab": {
          "base_uri": "https://localhost:8080/"
        },
        "id": "5N0GY0_PntmQ",
        "outputId": "59e6dfcf-1a74-469a-b082-09d381238a60"
      },
      "source": [
        "!pip install senticnet\n"
      ],
      "execution_count": 2,
      "outputs": [
        {
          "output_type": "stream",
          "text": [
            "Collecting senticnet\n",
            "\u001b[?25l  Downloading https://files.pythonhosted.org/packages/f3/8e/c72d2c5186f762f13d3d8cf63aedeb973b95d45d62b59a63006060073e3a/senticnet-1.6-py3-none-any.whl (51.9MB)\n",
            "\u001b[K     |████████████████████████████████| 51.9MB 61kB/s \n",
            "\u001b[?25hInstalling collected packages: senticnet\n",
            "Successfully installed senticnet-1.6\n"
          ],
          "name": "stdout"
        }
      ]
    },
    {
      "cell_type": "code",
      "metadata": {
        "id": "62U6jGEgAjiK"
      },
      "source": [
        "import pandas as pd\r\n",
        "from pathlib import Path\r\n"
      ],
      "execution_count": 3,
      "outputs": []
    },
    {
      "cell_type": "code",
      "metadata": {
        "id": "-8XQcKRBAnOu",
        "colab": {
          "base_uri": "https://localhost:8080/"
        },
        "outputId": "9974da2a-515b-483c-917f-4cd356e37882"
      },
      "source": [
        "from google.colab import drive\r\n",
        "drive.mount(\"/content/drive\", force_remount=True)"
      ],
      "execution_count": 4,
      "outputs": [
        {
          "output_type": "stream",
          "text": [
            "Mounted at /content/drive\n"
          ],
          "name": "stdout"
        }
      ]
    },
    {
      "cell_type": "code",
      "metadata": {
        "id": "Q4pj57gBArXW"
      },
      "source": [
        "df_train = pd.read_csv(Path('/content/drive/My Drive/DSP/data/bachelor/train.csv'))\r\n"
      ],
      "execution_count": 5,
      "outputs": []
    },
    {
      "cell_type": "code",
      "metadata": {
        "colab": {
          "base_uri": "https://localhost:8080/",
          "height": 195
        },
        "id": "uAXoftZiAuoI",
        "outputId": "0f6bb76a-b655-49b7-fac6-b6abcf10def3"
      },
      "source": [
        "df_train.head()"
      ],
      "execution_count": 6,
      "outputs": [
        {
          "output_type": "execute_result",
          "data": {
            "text/html": [
              "<div>\n",
              "<style scoped>\n",
              "    .dataframe tbody tr th:only-of-type {\n",
              "        vertical-align: middle;\n",
              "    }\n",
              "\n",
              "    .dataframe tbody tr th {\n",
              "        vertical-align: top;\n",
              "    }\n",
              "\n",
              "    .dataframe thead th {\n",
              "        text-align: right;\n",
              "    }\n",
              "</style>\n",
              "<table border=\"1\" class=\"dataframe\">\n",
              "  <thead>\n",
              "    <tr style=\"text-align: right;\">\n",
              "      <th></th>\n",
              "      <th>label</th>\n",
              "      <th>text</th>\n",
              "    </tr>\n",
              "  </thead>\n",
              "  <tbody>\n",
              "    <tr>\n",
              "      <th>0</th>\n",
              "      <td>depression_ctrl</td>\n",
              "      <td>Game over RT : Life is so unpredictable. Be gr...</td>\n",
              "    </tr>\n",
              "    <tr>\n",
              "      <th>1</th>\n",
              "      <td>depression</td>\n",
              "      <td>Happy ! Guys: please check your balls monthly ...</td>\n",
              "    </tr>\n",
              "    <tr>\n",
              "      <th>2</th>\n",
              "      <td>ptsd_ctrl</td>\n",
              "      <td>You gotta enjoy the view RT : i want a boyfrie...</td>\n",
              "    </tr>\n",
              "    <tr>\n",
              "      <th>3</th>\n",
              "      <td>ptsd_ctrl</td>\n",
              "      <td>I love that I'm so chill about everything RT :...</td>\n",
              "    </tr>\n",
              "    <tr>\n",
              "      <th>4</th>\n",
              "      <td>depression_ctrl</td>\n",
              "      <td>Photo: lkfrannyfrano: hotshxxt: migzfromatx: s...</td>\n",
              "    </tr>\n",
              "  </tbody>\n",
              "</table>\n",
              "</div>"
            ],
            "text/plain": [
              "             label                                               text\n",
              "0  depression_ctrl  Game over RT : Life is so unpredictable. Be gr...\n",
              "1       depression  Happy ! Guys: please check your balls monthly ...\n",
              "2        ptsd_ctrl  You gotta enjoy the view RT : i want a boyfrie...\n",
              "3        ptsd_ctrl  I love that I'm so chill about everything RT :...\n",
              "4  depression_ctrl  Photo: lkfrannyfrano: hotshxxt: migzfromatx: s..."
            ]
          },
          "metadata": {
            "tags": []
          },
          "execution_count": 6
        }
      ]
    },
    {
      "cell_type": "code",
      "metadata": {
        "id": "IQz7roeEnmI5"
      },
      "source": [
        "from senticnet.senticnet import SenticNet\n"
      ],
      "execution_count": 7,
      "outputs": []
    },
    {
      "cell_type": "code",
      "metadata": {
        "id": "C2SH1euPxgxY"
      },
      "source": [
        "sn = SenticNet()\n",
        "concept_info = sn.concept('love')\n",
        "polarity_label = sn.polarity_label('love')\n",
        "polarity_value = sn.polarity_value('love')\n",
        "moodtags = sn.moodtags('love')\n",
        "semantics = sn.semantics('love')\n",
        "sentics = sn.sentics('love')"
      ],
      "execution_count": 8,
      "outputs": []
    },
    {
      "cell_type": "code",
      "metadata": {
        "colab": {
          "base_uri": "https://localhost:8080/"
        },
        "id": "Co70y8vSxhRt",
        "outputId": "07ff2d4f-47ca-4fc3-c4ac-f9d6a726fda7"
      },
      "source": [
        "print(concept_info )\n",
        "print(polarity_label )\n",
        "print(polarity_value )\n",
        "print(moodtags )\n",
        "print(semantics )\n",
        "print(sentics )"
      ],
      "execution_count": 9,
      "outputs": [
        {
          "output_type": "stream",
          "text": [
            "{'polarity_label': 'positive', 'polarity_value': '0.83', 'sentics': {'introspection': '0.897', 'temper': '0', 'attitude': '0', 'sensitivity': '0.762'}, 'moodtags': ['#joy', '#eagerness'], 'semantics': ['desire_succeed', 'excitement', 'lust', 'passion', 'sexuality']}\n",
            "positive\n",
            "0.83\n",
            "['#joy', '#eagerness']\n",
            "['desire_succeed', 'excitement', 'lust', 'passion', 'sexuality']\n",
            "{'introspection': '0.897', 'temper': '0', 'attitude': '0', 'sensitivity': '0.762'}\n"
          ],
          "name": "stdout"
        }
      ]
    },
    {
      "cell_type": "code",
      "metadata": {
        "colab": {
          "base_uri": "https://localhost:8080/"
        },
        "id": "4r_aEL7MqnO4",
        "outputId": "f20eb29c-0ff1-4fb8-e9c3-0f020a511f9d"
      },
      "source": [
        "print(type(float(polarity_value)))"
      ],
      "execution_count": 10,
      "outputs": [
        {
          "output_type": "stream",
          "text": [
            "<class 'float'>\n"
          ],
          "name": "stdout"
        }
      ]
    },
    {
      "cell_type": "code",
      "metadata": {
        "colab": {
          "base_uri": "https://localhost:8080/",
          "height": 35
        },
        "id": "-72QcrEqvIdO",
        "outputId": "3feecee0-e2cb-42d6-bc3b-cab946e38826"
      },
      "source": [
        "sentics['introspection']\r\n"
      ],
      "execution_count": 11,
      "outputs": [
        {
          "output_type": "execute_result",
          "data": {
            "application/vnd.google.colaboratory.intrinsic+json": {
              "type": "string"
            },
            "text/plain": [
              "'0.897'"
            ]
          },
          "metadata": {
            "tags": []
          },
          "execution_count": 11
        }
      ]
    },
    {
      "cell_type": "code",
      "metadata": {
        "id": "74x1N_c6sekr"
      },
      "source": [
        "def get_feature(message):\r\n",
        "  \"\"\"This function gives out a dataframe of extracted features\"\"\"\r\n",
        "  sn = SenticNet()\r\n",
        "\r\n",
        "  polarity_value=0\r\n",
        "  polarity_label=0\r\n",
        "  introspection=0\r\n",
        "  sensitivity=0\r\n",
        "  temper=0\r\n",
        "  attitude=0\r\n",
        "\r\n",
        "  for word in (message):\r\n",
        "    try:\r\n",
        "      concept = sn.concept(word)\r\n",
        "      pol_value = float(concept['polarity_value'])\r\n",
        "      pol_label=concept['polarity_label']\r\n",
        "      intros=float(concept['sentics']['introspection'])\r\n",
        "      sensit=float(concept['sentics']['sensitivity'])\r\n",
        "      temp=float(concept['sentics']['temper'])\r\n",
        "      attit=float(concept['sentics']['attitude'])\r\n",
        "\r\n",
        "      if  concept['polarity_label']=='positive':\r\n",
        "        pol_label =1\r\n",
        "      else:\r\n",
        "        pol_label=0\r\n",
        "\r\n",
        "\r\n",
        "\r\n",
        "      polarity_value += pol_value\r\n",
        "      polarity_label +=pol_label\r\n",
        "      introspection +=intros\r\n",
        "      sensitivity +=sensit\r\n",
        "      temper +=temp\r\n",
        "      attitude +=attit\r\n",
        "\r\n",
        "    except KeyError:\r\n",
        "        pass\r\n",
        " \r\n",
        "    \r\n",
        "  return polarity_value , polarity_label, introspection, sensitivity, temper, attitude\r\n"
      ],
      "execution_count": 12,
      "outputs": []
    },
    {
      "cell_type": "code",
      "metadata": {
        "id": "d6NL8jsnScRl",
        "colab": {
          "base_uri": "https://localhost:8080/"
        },
        "outputId": "71257575-eebc-434a-d61c-d277d3fdec0a"
      },
      "source": [
        "  #Test a sentence\r\n",
        "sn = SenticNet()\r\n",
        "get_feature(['I', 'love', 'books'])"
      ],
      "execution_count": 13,
      "outputs": [
        {
          "output_type": "execute_result",
          "data": {
            "text/plain": [
              "(0.83, 1, 0.897, 0.762, 0.0, 0.0)"
            ]
          },
          "metadata": {
            "tags": []
          },
          "execution_count": 13
        }
      ]
    },
    {
      "cell_type": "code",
      "metadata": {
        "id": "GBJWUPQPDivm"
      },
      "source": [
        "#df_train['text'][1].lower()"
      ],
      "execution_count": 14,
      "outputs": []
    },
    {
      "cell_type": "code",
      "metadata": {
        "colab": {
          "base_uri": "https://localhost:8080/"
        },
        "id": "A-obu478EF2u",
        "outputId": "0fb8ff74-391e-4901-c5d1-c0da59ca375f"
      },
      "source": [
        "import nltk\r\n",
        "from nltk import word_tokenize\r\n",
        "nltk.download('punkt')\r\n",
        "sent = \"This is my text, this is a nice way to input text.\"\r\n",
        "word_tokenize(sent)\r\n"
      ],
      "execution_count": 15,
      "outputs": [
        {
          "output_type": "stream",
          "text": [
            "[nltk_data] Downloading package punkt to /root/nltk_data...\n",
            "[nltk_data]   Unzipping tokenizers/punkt.zip.\n"
          ],
          "name": "stdout"
        },
        {
          "output_type": "execute_result",
          "data": {
            "text/plain": [
              "['This',\n",
              " 'is',\n",
              " 'my',\n",
              " 'text',\n",
              " ',',\n",
              " 'this',\n",
              " 'is',\n",
              " 'a',\n",
              " 'nice',\n",
              " 'way',\n",
              " 'to',\n",
              " 'input',\n",
              " 'text',\n",
              " '.']"
            ]
          },
          "metadata": {
            "tags": []
          },
          "execution_count": 15
        }
      ]
    },
    {
      "cell_type": "code",
      "metadata": {
        "colab": {
          "base_uri": "https://localhost:8080/"
        },
        "id": "ep1AixaMDSKE",
        "outputId": "efbf155f-61d8-4dfc-b0d1-8ecb6e40fa1f"
      },
      "source": [
        "#first sentence of train data set\n",
        "get_feature(word_tokenize(df_train['text'][1].lower()))"
      ],
      "execution_count": 16,
      "outputs": [
        {
          "output_type": "execute_result",
          "data": {
            "text/plain": [
              "(2149.817000000051,\n",
              " 6548,\n",
              " 1670.337000000043,\n",
              " 1431.5410000000136,\n",
              " 44.2320000000002,\n",
              " 639.5329999999973)"
            ]
          },
          "metadata": {
            "tags": []
          },
          "execution_count": 16
        }
      ]
    },
    {
      "cell_type": "code",
      "metadata": {
        "id": "p5mOtj78DC8n",
        "colab": {
          "base_uri": "https://localhost:8080/"
        },
        "outputId": "33fe7043-140d-42ae-8f23-a86d340d231b"
      },
      "source": [
        "df_train['polarity_value'] = 0\r\n",
        "df_train['polarity_label'] = 0\r\n",
        "df_train['sensitivity'] = 0\r\n",
        "df_train['sensitivity'] = 0\r\n",
        "df_train['introspection'] = 0\r\n",
        "df_train['temper'] = 0\r\n",
        "df_train['attitude'] = 0\r\n",
        "\r\n",
        "df_train.head()\r\n",
        "\r\n",
        "for i in range(df_train.shape[0]):\r\n",
        "  polarity_value , polarity_label, introspection, sensitivity, temper, attitude=get_feature (word_tokenize(df_train['text'][i].lower()))\r\n",
        "  df_train['polarity_value'][i] = polarity_value\r\n",
        "  df_train['polarity_value'][i] = polarity_label\r\n",
        "  df_train['sensitivity'][i] = sensitivity\r\n",
        "  df_train['introspection'][i]= introspection\r\n",
        "  df_train['temper'][i] = temper\r\n",
        "  df_train['attitude'][i]= attitude\r\n",
        "\r\n",
        "\r\n"
      ],
      "execution_count": 17,
      "outputs": [
        {
          "output_type": "stream",
          "text": [
            "/usr/local/lib/python3.6/dist-packages/ipykernel_launcher.py:13: SettingWithCopyWarning: \n",
            "A value is trying to be set on a copy of a slice from a DataFrame\n",
            "\n",
            "See the caveats in the documentation: https://pandas.pydata.org/pandas-docs/stable/user_guide/indexing.html#returning-a-view-versus-a-copy\n",
            "  del sys.path[0]\n",
            "/usr/local/lib/python3.6/dist-packages/ipykernel_launcher.py:14: SettingWithCopyWarning: \n",
            "A value is trying to be set on a copy of a slice from a DataFrame\n",
            "\n",
            "See the caveats in the documentation: https://pandas.pydata.org/pandas-docs/stable/user_guide/indexing.html#returning-a-view-versus-a-copy\n",
            "  \n",
            "/usr/local/lib/python3.6/dist-packages/ipykernel_launcher.py:15: SettingWithCopyWarning: \n",
            "A value is trying to be set on a copy of a slice from a DataFrame\n",
            "\n",
            "See the caveats in the documentation: https://pandas.pydata.org/pandas-docs/stable/user_guide/indexing.html#returning-a-view-versus-a-copy\n",
            "  from ipykernel import kernelapp as app\n",
            "/usr/local/lib/python3.6/dist-packages/ipykernel_launcher.py:16: SettingWithCopyWarning: \n",
            "A value is trying to be set on a copy of a slice from a DataFrame\n",
            "\n",
            "See the caveats in the documentation: https://pandas.pydata.org/pandas-docs/stable/user_guide/indexing.html#returning-a-view-versus-a-copy\n",
            "  app.launch_new_instance()\n",
            "/usr/local/lib/python3.6/dist-packages/ipykernel_launcher.py:17: SettingWithCopyWarning: \n",
            "A value is trying to be set on a copy of a slice from a DataFrame\n",
            "\n",
            "See the caveats in the documentation: https://pandas.pydata.org/pandas-docs/stable/user_guide/indexing.html#returning-a-view-versus-a-copy\n",
            "/usr/local/lib/python3.6/dist-packages/ipykernel_launcher.py:18: SettingWithCopyWarning: \n",
            "A value is trying to be set on a copy of a slice from a DataFrame\n",
            "\n",
            "See the caveats in the documentation: https://pandas.pydata.org/pandas-docs/stable/user_guide/indexing.html#returning-a-view-versus-a-copy\n"
          ],
          "name": "stderr"
        }
      ]
    },
    {
      "cell_type": "code",
      "metadata": {
        "colab": {
          "base_uri": "https://localhost:8080/",
          "height": 343
        },
        "id": "YaVSI3GvkPkm",
        "outputId": "c7644f75-1004-4848-c14b-24cfbbc3091f"
      },
      "source": [
        "df_train.head(10)\r\n"
      ],
      "execution_count": 18,
      "outputs": [
        {
          "output_type": "execute_result",
          "data": {
            "text/html": [
              "<div>\n",
              "<style scoped>\n",
              "    .dataframe tbody tr th:only-of-type {\n",
              "        vertical-align: middle;\n",
              "    }\n",
              "\n",
              "    .dataframe tbody tr th {\n",
              "        vertical-align: top;\n",
              "    }\n",
              "\n",
              "    .dataframe thead th {\n",
              "        text-align: right;\n",
              "    }\n",
              "</style>\n",
              "<table border=\"1\" class=\"dataframe\">\n",
              "  <thead>\n",
              "    <tr style=\"text-align: right;\">\n",
              "      <th></th>\n",
              "      <th>label</th>\n",
              "      <th>text</th>\n",
              "      <th>polarity_value</th>\n",
              "      <th>polarity_label</th>\n",
              "      <th>sensitivity</th>\n",
              "      <th>introspection</th>\n",
              "      <th>temper</th>\n",
              "      <th>attitude</th>\n",
              "    </tr>\n",
              "  </thead>\n",
              "  <tbody>\n",
              "    <tr>\n",
              "      <th>0</th>\n",
              "      <td>depression_ctrl</td>\n",
              "      <td>Game over RT : Life is so unpredictable. Be gr...</td>\n",
              "      <td>3481</td>\n",
              "      <td>0</td>\n",
              "      <td>831</td>\n",
              "      <td>1040</td>\n",
              "      <td>38</td>\n",
              "      <td>209</td>\n",
              "    </tr>\n",
              "    <tr>\n",
              "      <th>1</th>\n",
              "      <td>depression</td>\n",
              "      <td>Happy ! Guys: please check your balls monthly ...</td>\n",
              "      <td>6548</td>\n",
              "      <td>0</td>\n",
              "      <td>1431</td>\n",
              "      <td>1670</td>\n",
              "      <td>44</td>\n",
              "      <td>639</td>\n",
              "    </tr>\n",
              "    <tr>\n",
              "      <th>2</th>\n",
              "      <td>ptsd_ctrl</td>\n",
              "      <td>You gotta enjoy the view RT : i want a boyfrie...</td>\n",
              "      <td>3044</td>\n",
              "      <td>0</td>\n",
              "      <td>656</td>\n",
              "      <td>914</td>\n",
              "      <td>-68</td>\n",
              "      <td>222</td>\n",
              "    </tr>\n",
              "    <tr>\n",
              "      <th>3</th>\n",
              "      <td>ptsd_ctrl</td>\n",
              "      <td>I love that I'm so chill about everything RT :...</td>\n",
              "      <td>3078</td>\n",
              "      <td>0</td>\n",
              "      <td>826</td>\n",
              "      <td>1233</td>\n",
              "      <td>-101</td>\n",
              "      <td>47</td>\n",
              "    </tr>\n",
              "    <tr>\n",
              "      <th>4</th>\n",
              "      <td>depression_ctrl</td>\n",
              "      <td>Photo: lkfrannyfrano: hotshxxt: migzfromatx: s...</td>\n",
              "      <td>3707</td>\n",
              "      <td>0</td>\n",
              "      <td>808</td>\n",
              "      <td>1607</td>\n",
              "      <td>-6</td>\n",
              "      <td>272</td>\n",
              "    </tr>\n",
              "    <tr>\n",
              "      <th>5</th>\n",
              "      <td>depression_ctrl</td>\n",
              "      <td>: New videooooOOOoooo at PM UK time!! RT : the...</td>\n",
              "      <td>2563</td>\n",
              "      <td>0</td>\n",
              "      <td>548</td>\n",
              "      <td>831</td>\n",
              "      <td>-78</td>\n",
              "      <td>22</td>\n",
              "    </tr>\n",
              "    <tr>\n",
              "      <th>6</th>\n",
              "      <td>depression</td>\n",
              "      <td>:</td>\n",
              "      <td>0</td>\n",
              "      <td>0</td>\n",
              "      <td>0</td>\n",
              "      <td>0</td>\n",
              "      <td>0</td>\n",
              "      <td>0</td>\n",
              "    </tr>\n",
              "    <tr>\n",
              "      <th>7</th>\n",
              "      <td>depression</td>\n",
              "      <td>new tweep followed me in the last week. I find...</td>\n",
              "      <td>3181</td>\n",
              "      <td>0</td>\n",
              "      <td>173</td>\n",
              "      <td>407</td>\n",
              "      <td>-177</td>\n",
              "      <td>166</td>\n",
              "    </tr>\n",
              "    <tr>\n",
              "      <th>8</th>\n",
              "      <td>ptsd</td>\n",
              "      <td>Pretty sure the cold weather is at least partl...</td>\n",
              "      <td>4636</td>\n",
              "      <td>0</td>\n",
              "      <td>991</td>\n",
              "      <td>1561</td>\n",
              "      <td>107</td>\n",
              "      <td>275</td>\n",
              "    </tr>\n",
              "    <tr>\n",
              "      <th>9</th>\n",
              "      <td>depression</td>\n",
              "      <td>RT : When you bang your toe against a table be...</td>\n",
              "      <td>2319</td>\n",
              "      <td>0</td>\n",
              "      <td>23</td>\n",
              "      <td>-6</td>\n",
              "      <td>-253</td>\n",
              "      <td>-17</td>\n",
              "    </tr>\n",
              "  </tbody>\n",
              "</table>\n",
              "</div>"
            ],
            "text/plain": [
              "             label  ... attitude\n",
              "0  depression_ctrl  ...      209\n",
              "1       depression  ...      639\n",
              "2        ptsd_ctrl  ...      222\n",
              "3        ptsd_ctrl  ...       47\n",
              "4  depression_ctrl  ...      272\n",
              "5  depression_ctrl  ...       22\n",
              "6       depression  ...        0\n",
              "7       depression  ...      166\n",
              "8             ptsd  ...      275\n",
              "9       depression  ...      -17\n",
              "\n",
              "[10 rows x 8 columns]"
            ]
          },
          "metadata": {
            "tags": []
          },
          "execution_count": 18
        }
      ]
    },
    {
      "cell_type": "code",
      "metadata": {
        "id": "Xnrba-Tpfhnn",
        "colab": {
          "base_uri": "https://localhost:8080/"
        },
        "outputId": "3f5b5247-9cf5-4cfb-9e3e-7ce7467b887f"
      },
      "source": [
        "polarity_value , polarity_label, introspection, sensitivity, temper, attitude"
      ],
      "execution_count": 19,
      "outputs": [
        {
          "output_type": "execute_result",
          "data": {
            "text/plain": [
              "(1434.986000000016,\n",
              " 3516,\n",
              " 1333.1680000000001,\n",
              " 927.0289999999924,\n",
              " 94.7319999999995,\n",
              " 32.60699999999994)"
            ]
          },
          "metadata": {
            "tags": []
          },
          "execution_count": 19
        }
      ]
    },
    {
      "cell_type": "code",
      "metadata": {
        "id": "XP2SIYgMkTb-"
      },
      "source": [
        "def get_avg_polarity(message):\r\n",
        "  sn = SenticNet()\r\n",
        "  count = 0\r\n",
        "  summ = 0\r\n",
        "  polarity=0\r\n",
        "  for word in (message):\r\n",
        "    try:\r\n",
        "      concept = sn.concept(word)\r\n",
        "      polarity = float(concept['polarity_value'])\r\n",
        "      print(polarity)\r\n",
        "      print(count)\r\n",
        "      #break\r\n",
        "    except KeyError:\r\n",
        "        pass\r\n",
        " \r\n",
        "    summ += polarity\r\n",
        "    count += 1\r\n",
        "  print(summ)\r\n",
        "  print(count)\r\n",
        "  return summ/count if count>0 else 0\r\n"
      ],
      "execution_count": null,
      "outputs": []
    },
    {
      "cell_type": "code",
      "metadata": {
        "colab": {
          "base_uri": "https://localhost:8080/"
        },
        "id": "GP1wPVPcklh7",
        "outputId": "909240b2-d8d7-45f8-9ec0-7f6d20bfdb98"
      },
      "source": [
        "get_avg_polarity(['I', 'book', 'love'])"
      ],
      "execution_count": null,
      "outputs": [
        {
          "output_type": "stream",
          "text": [
            "0.83\n",
            "2\n",
            "0.83\n",
            "3\n"
          ],
          "name": "stdout"
        },
        {
          "output_type": "execute_result",
          "data": {
            "text/plain": [
              "0.27666666666666667"
            ]
          },
          "metadata": {
            "tags": []
          },
          "execution_count": 100
        }
      ]
    },
    {
      "cell_type": "code",
      "metadata": {
        "colab": {
          "base_uri": "https://localhost:8080/"
        },
        "id": "lHsop6LM66sH",
        "outputId": "81ab445c-3452-4e6a-a641-989a7cc93103"
      },
      "source": [
        "!pip install twitter"
      ],
      "execution_count": null,
      "outputs": [
        {
          "output_type": "stream",
          "text": [
            "Collecting twitter\n",
            "\u001b[?25l  Downloading https://files.pythonhosted.org/packages/85/e2/f602e3f584503f03e0389491b251464f8ecfe2596ac86e6b9068fe7419d3/twitter-1.18.0-py2.py3-none-any.whl (54kB)\n",
            "\r\u001b[K     |██████                          | 10kB 17.7MB/s eta 0:00:01\r\u001b[K     |████████████                    | 20kB 16.4MB/s eta 0:00:01\r\u001b[K     |██████████████████              | 30kB 9.3MB/s eta 0:00:01\r\u001b[K     |████████████████████████        | 40kB 8.0MB/s eta 0:00:01\r\u001b[K     |██████████████████████████████▏ | 51kB 7.8MB/s eta 0:00:01\r\u001b[K     |████████████████████████████████| 61kB 4.9MB/s \n",
            "\u001b[?25hInstalling collected packages: twitter\n",
            "Successfully installed twitter-1.18.0\n"
          ],
          "name": "stdout"
        }
      ]
    },
    {
      "cell_type": "code",
      "metadata": {
        "id": "SouJ7D_m6lRh"
      },
      "source": [
        "#import urllib2\n",
        "import twitter\n",
        "from nltk.stem import WordNetLemmatizer\n",
        "from nltk.stem.snowball import EnglishStemmer\n",
        "import re\n",
        "from senticnet.senticnet import SenticNet"
      ],
      "execution_count": null,
      "outputs": []
    },
    {
      "cell_type": "code",
      "metadata": {
        "colab": {
          "base_uri": "https://localhost:8080/"
        },
        "id": "aL2g2DOY7mE5",
        "outputId": "aaf66034-b6a2-4fa0-ee54-5a24c6500bf1"
      },
      "source": [
        "import nltk\n",
        "nltk.download('wordnet')"
      ],
      "execution_count": null,
      "outputs": [
        {
          "output_type": "stream",
          "text": [
            "[nltk_data] Downloading package wordnet to /root/nltk_data...\n",
            "[nltk_data]   Unzipping corpora/wordnet.zip.\n"
          ],
          "name": "stdout"
        },
        {
          "output_type": "execute_result",
          "data": {
            "text/plain": [
              "True"
            ]
          },
          "metadata": {
            "tags": []
          },
          "execution_count": 7
        }
      ]
    },
    {
      "cell_type": "code",
      "metadata": {
        "id": "ohmEDaUa7_zs"
      },
      "source": [
        "import urllib\n"
      ],
      "execution_count": null,
      "outputs": []
    },
    {
      "cell_type": "code",
      "metadata": {
        "id": "T3_FzDxl7HGa"
      },
      "source": [
        "def get_words_bag(message):\n",
        "  wnl = WordNetLemmatizer()\n",
        "  es = EnglishStemmer()\n",
        "  for word in re.finditer(\"\\w+\", message):\n",
        "    yield (wnl.lemmatize(word.group()), es.stem(word.group()))\n",
        "\n",
        "def get_avg_polarity(message):\n",
        "  threshold = 0.3\n",
        "  sn = SenticNet()\n",
        "  count = 0\n",
        "  summ = 0\n",
        "  for word_options in get_words_bag(message):\n",
        "    polarity = 0\n",
        "    for word in word_options:\n",
        "      try:\n",
        "        concept = sn.concept(word)\n",
        "        polarity = concept['polarity']\n",
        "        break\n",
        "      except urllib.error.HTTPError:\n",
        "        pass #Do next\n",
        "    if abs(polarity) > threshold:\n",
        "      summ += polarity\n",
        "      count += 1\n",
        "\n",
        "  return summ / count if count > 0 else 0\n"
      ],
      "execution_count": null,
      "outputs": []
    },
    {
      "cell_type": "code",
      "metadata": {
        "colab": {
          "base_uri": "https://localhost:8080/",
          "height": 229
        },
        "id": "MbWbHmYXQNAo",
        "outputId": "0f2f66de-e495-45bf-fd2a-48d5cc0c2377"
      },
      "source": [
        "class Classifier(nn.Module):  \r\n",
        "  def __init__(self, languages, corpus_size): \r\n",
        "    super(BagofWordsClassifier, self).__init__() \r\n",
        "    self.linear = nn.Linear(corpus_size, languages) \r\n",
        "    def forward(self, bow_vec): \r\n",
        "      return F.log_softmax(self.linear(bow_vec), dim=1)\r\n",
        "\r\n"
      ],
      "execution_count": 20,
      "outputs": [
        {
          "output_type": "error",
          "ename": "NameError",
          "evalue": "ignored",
          "traceback": [
            "\u001b[0;31m---------------------------------------------------------------------------\u001b[0m",
            "\u001b[0;31mNameError\u001b[0m                                 Traceback (most recent call last)",
            "\u001b[0;32m<ipython-input-20-6d8257350c8a>\u001b[0m in \u001b[0;36m<module>\u001b[0;34m()\u001b[0m\n\u001b[0;32m----> 1\u001b[0;31m \u001b[0;32mclass\u001b[0m \u001b[0mClassifier\u001b[0m\u001b[0;34m(\u001b[0m\u001b[0mnn\u001b[0m\u001b[0;34m.\u001b[0m\u001b[0mModule\u001b[0m\u001b[0;34m)\u001b[0m\u001b[0;34m:\u001b[0m\u001b[0;34m\u001b[0m\u001b[0;34m\u001b[0m\u001b[0m\n\u001b[0m\u001b[1;32m      2\u001b[0m   \u001b[0;32mdef\u001b[0m \u001b[0m__init__\u001b[0m\u001b[0;34m(\u001b[0m\u001b[0mself\u001b[0m\u001b[0;34m,\u001b[0m \u001b[0mlanguages\u001b[0m\u001b[0;34m,\u001b[0m \u001b[0mcorpus_size\u001b[0m\u001b[0;34m)\u001b[0m\u001b[0;34m:\u001b[0m\u001b[0;34m\u001b[0m\u001b[0;34m\u001b[0m\u001b[0m\n\u001b[1;32m      3\u001b[0m     \u001b[0msuper\u001b[0m\u001b[0;34m(\u001b[0m\u001b[0mBagofWordsClassifier\u001b[0m\u001b[0;34m,\u001b[0m \u001b[0mself\u001b[0m\u001b[0;34m)\u001b[0m\u001b[0;34m.\u001b[0m\u001b[0m__init__\u001b[0m\u001b[0;34m(\u001b[0m\u001b[0;34m)\u001b[0m\u001b[0;34m\u001b[0m\u001b[0;34m\u001b[0m\u001b[0m\n\u001b[1;32m      4\u001b[0m     \u001b[0mself\u001b[0m\u001b[0;34m.\u001b[0m\u001b[0mlinear\u001b[0m \u001b[0;34m=\u001b[0m \u001b[0mnn\u001b[0m\u001b[0;34m.\u001b[0m\u001b[0mLinear\u001b[0m\u001b[0;34m(\u001b[0m\u001b[0mcorpus_size\u001b[0m\u001b[0;34m,\u001b[0m \u001b[0mlanguages\u001b[0m\u001b[0;34m)\u001b[0m\u001b[0;34m\u001b[0m\u001b[0;34m\u001b[0m\u001b[0m\n\u001b[1;32m      5\u001b[0m     \u001b[0;32mdef\u001b[0m \u001b[0mforward\u001b[0m\u001b[0;34m(\u001b[0m\u001b[0mself\u001b[0m\u001b[0;34m,\u001b[0m \u001b[0mbow_vec\u001b[0m\u001b[0;34m)\u001b[0m\u001b[0;34m:\u001b[0m\u001b[0;34m\u001b[0m\u001b[0;34m\u001b[0m\u001b[0m\n",
            "\u001b[0;31mNameError\u001b[0m: name 'nn' is not defined"
          ]
        }
      ]
    },
    {
      "cell_type": "code",
      "metadata": {
        "id": "XxYIqahVQg2n"
      },
      "source": [
        "model = BagofWordsClassifier(languages, corpus_size) \r\n",
        "loss_function = nn.NLLLoss()\r\n",
        "\r\n"
      ],
      "execution_count": null,
      "outputs": []
    }
  ]
}